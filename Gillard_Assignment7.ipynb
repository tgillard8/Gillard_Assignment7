{
 "cells": [
  {
   "cell_type": "code",
   "execution_count": null,
   "id": "5153bebb",
   "metadata": {},
   "outputs": [],
   "source": [
    "#define function based off of dice settings and target value\n",
    "def dice_parameters(dice_settings, target):\n",
    "    \n",
    "    #split input string to get number of dice/sides per die and convert to int\n",
    "    num_dice, num_side = map(int, dice_settings.split('d'))\n",
    "    \n",
    "    #if it is one singular die\n",
    "    if num_dice == 1:\n",
    "        \n",
    "    #number of successful outcomes \n",
    "        success = num_side - target + 1\n",
    "        \n",
    "        \n",
    "        total = num_side\n",
    "    \n",
    "    #return for complex inputs\n",
    "    else:\n",
    "        return \"Complex scenario, more details required\"\n",
    "    \n",
    "    #calculate probability of success to total outcomes\n",
    "    probability = success / total\n",
    "    #return the probability both as fraction string and dec value\n",
    "    return f\"{success}/{total}\", probability\n",
    "\n",
    "#user inputs for dice configs and target value\n",
    "dice_settings = input(\"Enter the dice configuration (ex: 1d6): \")\n",
    "target = int(input(\"Enter the target: \"))\n",
    "\n",
    "#call dice parameters function with user inputs\n",
    "probability = dice_parameters(dice_settings, target)\n",
    "#print calculated probability\n",
    "print(f\"Probability: {probability[0]} ({probability[1]*100:.2f}%)\")\n",
    "    "
   ]
  },
  {
   "cell_type": "code",
   "execution_count": 2,
   "id": "7bd29235",
   "metadata": {},
   "outputs": [
    {
     "name": "stdout",
     "output_type": "stream",
     "text": [
      "['ABC', 'BAC', 'BCA', 'ACB', 'CAB', 'CBA']\n"
     ]
    }
   ],
   "source": [
    "def gen_permutations(p):\n",
    "    #if there is only one character or empty, respond w list\n",
    "    if len(p) <= 1:\n",
    "        return [p]\n",
    "    #start empty list\n",
    "    permutations = []\n",
    "\n",
    "    #loop through permutations\n",
    "    for perm in gen_permutations(p[1:]):\n",
    "        #insert first character into all strings\n",
    "        for i in range(len(perm) + 1):\n",
    "            permutations.append(perm[:i] + p[0] + perm[i:])\n",
    "    return permutations\n",
    "\n",
    "input_str = \"ABC\"\n",
    "permutations = gen_permutations(input_str)\n",
    "print(permutations)\n"
   ]
  },
  {
   "cell_type": "code",
   "execution_count": null,
   "id": "ec67a7d2",
   "metadata": {},
   "outputs": [],
   "source": []
  }
 ],
 "metadata": {
  "kernelspec": {
   "display_name": "Python 3 (ipykernel)",
   "language": "python",
   "name": "python3"
  },
  "language_info": {
   "codemirror_mode": {
    "name": "ipython",
    "version": 3
   },
   "file_extension": ".py",
   "mimetype": "text/x-python",
   "name": "python",
   "nbconvert_exporter": "python",
   "pygments_lexer": "ipython3",
   "version": "3.11.5"
  }
 },
 "nbformat": 4,
 "nbformat_minor": 5
}
